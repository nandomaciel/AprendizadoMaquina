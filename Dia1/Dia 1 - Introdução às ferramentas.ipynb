{
 "cells": [
  {
   "cell_type": "markdown",
   "metadata": {},
   "source": [
    "# Dia 1 - Introdução às ferramentas\n",
    "\n",
    "Nesse primeiro momento vamos apresentar os pacotes NumPy, Pandas, Matplotlib. "
   ]
  },
  {
   "cell_type": "markdown",
   "metadata": {
    "collapsed": true
   },
   "source": [
    "## Numpy\n",
    "- Pacote para computação científica\n",
    "\n",
    "Tendo em vista a natureza das aplicações que vamos fazer, para manipulação de informações e dados iremos ver Arrays."
   ]
  },
  {
   "cell_type": "markdown",
   "metadata": {},
   "source": [
    "## Arrays\n",
    "\n",
    "Vamos apresentar os arrays do Numpy, começando com alguns atributos que todo objeto desse tipo tem:"
   ]
  },
  {
   "cell_type": "code",
   "execution_count": null,
   "metadata": {
    "collapsed": false
   },
   "outputs": [],
   "source": [
    "!pip install numpy\n",
    "import numpy as np"
   ]
  },
  {
   "cell_type": "code",
   "execution_count": null,
   "metadata": {
    "collapsed": false
   },
   "outputs": [],
   "source": [
    "a = np.arange(15).reshape(3, 5)\n",
    "print(a)\n",
    "print(\"--------------\")\n",
    "\n",
    "print(a.shape) # quantidade de linhas e colunas\n",
    "print(\"--------------\")\n",
    "\n",
    "print(a.ndim) # número de dimensões\n",
    "print(\"--------------\")\n",
    "\n",
    "print(a.dtype.name) # nome do tipo dos elementos\n",
    "print(\"--------------\")\n",
    "\n",
    "print(a.size) # número total de elementos\n",
    "print(\"--------------\")"
   ]
  },
  {
   "cell_type": "code",
   "execution_count": null,
   "metadata": {
    "collapsed": false
   },
   "outputs": [],
   "source": [
    "# Seguindo com algumas formas de declarar arrays\n",
    "x = np.array([1, 2, 3])\n",
    "print(\"x =\", x)\n",
    "print(\"--------------\")\n",
    "\n",
    "y = np.arange(2, 10, dtype = np.float)\n",
    "print(\"y =\", y)\n",
    "print(\"--------------\")\n",
    "\n",
    "z = np.linspace(1., 4., 6.)\n",
    "print(\"z =\", z)\n",
    "print(\"--------------\")"
   ]
  },
  {
   "cell_type": "markdown",
   "metadata": {},
   "source": [
    "Arrays com mais de uma dimensão podem também ser chamados de matrizes. Para matrizes temos algumas funções específicas."
   ]
  },
  {
   "cell_type": "code",
   "execution_count": null,
   "metadata": {
    "collapsed": false
   },
   "outputs": [],
   "source": [
    "# Todos os elementos 0\n",
    "x = np.zeros((2, 3))\n",
    "print(\"x =\", x)\n",
    "print(\"--------------\")\n",
    "\n",
    "# Todos os elementos 1\n",
    "y = np.ones((2, 3))\n",
    "print(\"y =\", y)\n",
    "print(\"--------------\")\n",
    "\n",
    "# Matriz identidade, primeiro argumento é o número de elementos em linha/coluna\n",
    "# segundo argumento é o tipo dos elementos\n",
    "z = np.identity(2, float)\n",
    "print(\"z =\", z)\n",
    "print(\"--------------\")\n",
    "\n",
    "w = np.random.random((2, 3))\n",
    "print(\"w =\", w)\n",
    "print(\"--------------\")"
   ]
  },
  {
   "cell_type": "code",
   "execution_count": null,
   "metadata": {
    "collapsed": false
   },
   "outputs": [],
   "source": [
    "# Acesso a elementos\n",
    "# A manipulação de elementos é feita da mesma maneira que os arrays padrão de python\n",
    "print(x[1][1])\n",
    "# Ou então\n",
    "print(x[1, 1])"
   ]
  },
  {
   "cell_type": "code",
   "execution_count": null,
   "metadata": {
    "collapsed": false
   },
   "outputs": [],
   "source": [
    "# Imprimindo arrays\n",
    "a = np.arange(6)                         # 1d array\n",
    "print(a)\n",
    "print(\"--------------\")\n",
    "\n",
    "# A função reshape é muito útil para mudar a forma de \n",
    "# um array ou matriz para a configuração que precisamos\n",
    "# Note que a quantidade de elementos deve ser igual ao número de colunas pelo número de linhas\n",
    "b = np.arange(12).reshape(4, 3)           # 2d array\n",
    "print(b)\n",
    "print(\"--------------\")\n",
    "\n",
    "c = np.arange(24).reshape(2, 3, 4)         # 3d array\n",
    "print(c)\n",
    "print(\"--------------\")"
   ]
  },
  {
   "cell_type": "code",
   "execution_count": null,
   "metadata": {
    "collapsed": false
   },
   "outputs": [],
   "source": [
    "print(b.ravel())\n",
    "print(\"--------------\")\n",
    "print(c.ravel())"
   ]
  },
  {
   "cell_type": "code",
   "execution_count": null,
   "metadata": {
    "collapsed": false
   },
   "outputs": [],
   "source": [
    "# Algumas operações básicas\n",
    "a = np.array([20, 30, 40, 50])\n",
    "b = np.arange(4)\n",
    "c = a - b\n",
    "print(c)\n",
    "print(\"--------------\")\n",
    "\n",
    "print(b**2)\n",
    "print(\"--------------\")\n",
    "\n",
    "print(10*np.sin(a))\n",
    "print(\"--------------\")\n",
    "\n",
    "print(a < 35)\n",
    "print(\"--------------\")\n",
    "\n",
    "print(a[a < 40])\n",
    "print(\"--------------\")"
   ]
  },
  {
   "cell_type": "code",
   "execution_count": null,
   "metadata": {
    "collapsed": false
   },
   "outputs": [],
   "source": [
    "#Indexando, Cortando e Iterando sobre arranjos\n",
    "a = np.arange(10)**3\n",
    "print(a)\n",
    "print(a[2])\n",
    "print(a[2:5])\n",
    "print(a[:-1])\n",
    "print(\"--------------\")\n",
    "\n",
    "a[:6:2] = 0 # Muda todos os valores até o 6º, 2 a 2 para 0\n",
    "print(a)\n",
    "\n",
    "print(\"--------------\")\n",
    "\n",
    "#Reverse\n",
    "a[]"
   ]
  },
  {
   "cell_type": "code",
   "execution_count": null,
   "metadata": {
    "collapsed": false
   },
   "outputs": [],
   "source": [
    "z = [i for i in range(5) for j in range(np.random.randint(10))]\n",
    "print(z)\n",
    "unique, counts = np.unique(z, return_counts=True)\n",
    "print(\"unique =\", unique, \"counts =\", counts)"
   ]
  },
  {
   "cell_type": "code",
   "execution_count": null,
   "metadata": {
    "collapsed": false
   },
   "outputs": [],
   "source": [
    "x, y = np.meshgrid(np.arange(1, 2, 0.25), np.arange(3, 4, 0.25))\n",
    "print(x)\n",
    "print(y)\n",
    "print(\"--------------\")\n",
    "\n",
    "a = np.array([4., 2.])\n",
    "b = np.array([2., 8.])\n",
    "\n",
    "print(np.column_stack((a, b)))\n",
    "# ou\n",
    "print(np.c_[(a, b)])\n",
    "print(\"--------------\")\n",
    "\n",
    "print(a[:, np.newaxis])  \n",
    "print(\"--------------\")\n",
    "\n",
    "print(np.vstack((a[:, np.newaxis], b[:, np.newaxis])))\n",
    "print(\"--------------\")"
   ]
  },
  {
   "cell_type": "markdown",
   "metadata": {},
   "source": [
    "### Exercício 1\n",
    "\n",
    "Crie um array com 11 elementos e negue os elementos que estão entre 4 e 8."
   ]
  },
  {
   "cell_type": "code",
   "execution_count": null,
   "metadata": {
    "collapsed": false
   },
   "outputs": [],
   "source": [
    "# Solução"
   ]
  },
  {
   "cell_type": "markdown",
   "metadata": {
    "collapsed": true
   },
   "source": [
    "### Exercício 2\n",
    "\n",
    "Dados os arrays v e w, gerar todas as combinações possíveis entre os elementos."
   ]
  },
  {
   "cell_type": "code",
   "execution_count": null,
   "metadata": {
    "collapsed": false
   },
   "outputs": [],
   "source": [
    "# Os arrays\n",
    "v = np.arange(9, 10, 0.25)\n",
    "w = np.arange(11, 12, 0.25)\n",
    "\n",
    "# Solução"
   ]
  },
  {
   "cell_type": "markdown",
   "metadata": {
    "collapsed": true
   },
   "source": [
    "## Pandas\n",
    "\n",
    "- É uma biblioteca para Python que fornece muitas funções para lidar com dados. "
   ]
  },
  {
   "cell_type": "code",
   "execution_count": null,
   "metadata": {
    "collapsed": false
   },
   "outputs": [],
   "source": [
    "!pip install pandas\n",
    "import pandas as pd"
   ]
  },
  {
   "cell_type": "code",
   "execution_count": null,
   "metadata": {
    "collapsed": false
   },
   "outputs": [],
   "source": [
    "# Você pode inicializar um objeto do tipo Series \n",
    "s = pd.Series([1, 3, 5, np.nan, 6, 8])\n",
    "\n",
    "# Ou então um DataFrame\n",
    "dates = pd.date_range('20130101', periods = 6)     # Cria datas a partir da data inicial especificada\n",
    "df1 = pd.DataFrame(np.random.randn(6, 4), index = dates, columns = list('ABCD'))\n",
    "print(df1)\n",
    "print(\"--------------\")\n",
    "\n",
    "df2 = pd.DataFrame({'A' : 1.,\n",
    "               'B' : pd.Timestamp('20130102'),\n",
    "               'C' : pd.Series(1, index=list(range(4)), dtype='float32'),\n",
    "               'D' : np.array([3] * 4, dtype='int32'),\n",
    "               'E' : pd.Categorical([\"test\", \"train\", \"test\", \"train\"]),\n",
    "               'F' : 'foo' })\n",
    "print(df2)\n",
    "print(\"--------------\")\n",
    "\n",
    "print(df2.dtypes)\n",
    "print(\"--------------\")\n",
    "\n",
    "df2.info()"
   ]
  },
  {
   "cell_type": "markdown",
   "metadata": {},
   "source": [
    "Vamos trabalhar com uma base de dados nova. \n",
    "\n",
    "Essa base trata-se dos alunos do BTI, contém informações a respeito das notas dos alunos nas disciplinas iniciais do curso, mas também inclui, por exemplo a nota do aluno (caso haja) no ENEM, usada para ingressar na Universidade. "
   ]
  },
  {
   "cell_type": "code",
   "execution_count": null,
   "metadata": {
    "collapsed": false
   },
   "outputs": [],
   "source": [
    "# Para abrir um cvs (que é transformado em DataFrame)\n",
    "# sep é um argumento que devine qual é o separadador dos atributos\n",
    "alunos_bti = pd.read_csv(\"dados/alunos-bti.csv\", sep = \",\")\n",
    "print(type(alunos_bti))\n",
    "\n",
    "alunos_bti.head()"
   ]
  },
  {
   "cell_type": "code",
   "execution_count": null,
   "metadata": {
    "collapsed": false
   },
   "outputs": [],
   "source": [
    "alunos_bti.tail(3)"
   ]
  },
  {
   "cell_type": "code",
   "execution_count": null,
   "metadata": {
    "collapsed": false
   },
   "outputs": [],
   "source": [
    "alunos_bti.index"
   ]
  },
  {
   "cell_type": "code",
   "execution_count": null,
   "metadata": {
    "collapsed": false
   },
   "outputs": [],
   "source": [
    "alunos_bti.columns"
   ]
  },
  {
   "cell_type": "code",
   "execution_count": null,
   "metadata": {
    "collapsed": false
   },
   "outputs": [],
   "source": [
    "alunos_bti.values"
   ]
  },
  {
   "cell_type": "code",
   "execution_count": null,
   "metadata": {
    "collapsed": false
   },
   "outputs": [],
   "source": [
    "alunos_bti.sort_values(by = 'enem_redacao', ascending = False).head()"
   ]
  },
  {
   "cell_type": "code",
   "execution_count": null,
   "metadata": {
    "collapsed": false
   },
   "outputs": [],
   "source": [
    "# Selecionando dados por coluna\n",
    "print(alunos_bti['nota'].head())\n",
    "print(\"--------------\")\n",
    "\n",
    "#Ou usando\n",
    "print(alunos_bti.nota.head())"
   ]
  },
  {
   "cell_type": "code",
   "execution_count": null,
   "metadata": {
    "collapsed": false
   },
   "outputs": [],
   "source": [
    "# Seleção por posição\n",
    "print(alunos_bti.iloc[3])\n",
    "print(\"--------------\")\n",
    "\n",
    "print(alunos_bti.iloc[1,1])\n",
    "print(\"--------------\")"
   ]
  },
  {
   "cell_type": "code",
   "execution_count": null,
   "metadata": {
    "collapsed": false
   },
   "outputs": [],
   "source": [
    "# Uma função muito útil é groupby que separa a base usando uma coluna \n",
    "# e reunindo em um mesmo grupo todos que possuem o mesmo valor pra essa coluna\n",
    "alunos_bti.groupby(\"ano_ingresso\")[\"enem_nota\"].mean()"
   ]
  },
  {
   "cell_type": "code",
   "execution_count": null,
   "metadata": {
    "collapsed": false
   },
   "outputs": [],
   "source": [
    "# Quando queremos tirar colunas específicas podemos usar Drop\n",
    "axis = [\"a_ID\", \"CEP\", \"periodo_ingresso\", \"periodo_disciplina\", \"disciplina_ID\", \"status_disciplina\", \"ano_disciplina\"]\n",
    "alunos_bti.drop(axis, axis = 1).groupby(\"ano_ingresso\").describe()\n",
    "# std = desvio padrão"
   ]
  },
  {
   "cell_type": "code",
   "execution_count": null,
   "metadata": {
    "collapsed": false
   },
   "outputs": [],
   "source": [
    "# Para inserir uma coluna\n",
    "alunos_bti[\"idade\"] = np.array([18] * len(alunos_bti))\n",
    "alunos_bti.head()"
   ]
  },
  {
   "cell_type": "code",
   "execution_count": null,
   "metadata": {
    "collapsed": false
   },
   "outputs": [],
   "source": [
    "alunos_bti[alunos_bti['ano_ingresso'] == 2014].head()"
   ]
  },
  {
   "cell_type": "code",
   "execution_count": null,
   "metadata": {
    "collapsed": false
   },
   "outputs": [],
   "source": [
    "alunos_bti[(alunos_bti['ano_ingresso'] == 2014) & (alunos_bti['status_disciplina'] == 'Reprovado')].head()"
   ]
  },
  {
   "cell_type": "markdown",
   "metadata": {},
   "source": [
    "### Exercício 3\n",
    "\n",
    "Selecione a disciplina com id = 4 e calcule a média das notas de todos que pagaram e foram aprovados. "
   ]
  },
  {
   "cell_type": "code",
   "execution_count": null,
   "metadata": {
    "collapsed": false
   },
   "outputs": [],
   "source": [
    "# Solução"
   ]
  },
  {
   "cell_type": "markdown",
   "metadata": {},
   "source": [
    "### Exercício 4\n",
    "Selecione todos os alunos que ingressaram em 2015, agrupe a lista pelo a_ID e calcule a média, máximo e mínimo de das notas de cada um. "
   ]
  },
  {
   "cell_type": "code",
   "execution_count": null,
   "metadata": {
    "collapsed": false
   },
   "outputs": [],
   "source": [
    "# Solução"
   ]
  },
  {
   "cell_type": "markdown",
   "metadata": {},
   "source": [
    "Podemos já começar a caminhar em direção a tarefas que são necessárias quando estamos lidando com base de dados. Chamamos de \"limpeza\" esse processo de tirar o que estiver faltando e que iria apenas nos atrapalhar.\n",
    "\n",
    "Vamos trabalhar brevemente com uma base de animes do gênero mecha que foram retirados do site MyAnimeList."
   ]
  },
  {
   "cell_type": "code",
   "execution_count": null,
   "metadata": {
    "collapsed": false
   },
   "outputs": [],
   "source": [
    "mecha = pd.read_csv(\"mecha.csv\", sep = \";\")\n",
    "mecha.head()"
   ]
  },
  {
   "cell_type": "code",
   "execution_count": null,
   "metadata": {
    "collapsed": false
   },
   "outputs": [],
   "source": [
    "# Tira apenas as linhas que tem algum valor inválido\n",
    "mecha.dropna(how = 'any').head()\n",
    "# Quando informamos o parâmetro axis = 1, definimos que qualquer alteração passará\n",
    "# a ser feita por coluna, teste executar"
   ]
  },
  {
   "cell_type": "code",
   "execution_count": null,
   "metadata": {
    "collapsed": false
   },
   "outputs": [],
   "source": [
    "# Substitui o valor inválido pelo valor passado por parâmetro\n",
    "mecha.fillna(value = -100).head()"
   ]
  },
  {
   "cell_type": "code",
   "execution_count": null,
   "metadata": {
    "collapsed": false
   },
   "outputs": [],
   "source": [
    "pd.isnull(mecha).head()"
   ]
  },
  {
   "cell_type": "markdown",
   "metadata": {
    "collapsed": true
   },
   "source": [
    "### Exercício 5\n",
    "Substitua apenas na coluna year os valores indefinidos por 2017."
   ]
  },
  {
   "cell_type": "code",
   "execution_count": null,
   "metadata": {
    "collapsed": false
   },
   "outputs": [],
   "source": [
    "# Solução"
   ]
  },
  {
   "cell_type": "markdown",
   "metadata": {},
   "source": [
    "## Matplotlib\n",
    "\n",
    "Uma vez que já abordamos duas maneiras de representar/manipular nossos dados, agora vamos ver uma maneira de visualização. \n",
    "- Matplotlib é uma biblioteca para plot 2D em Python."
   ]
  },
  {
   "cell_type": "code",
   "execution_count": null,
   "metadata": {
    "collapsed": false
   },
   "outputs": [],
   "source": [
    "# O pyplot é is um conjunto de comandos que fazem o matplotlib\n",
    "# funcionar como o MATLAB\n",
    "!pip install matplotlib\n",
    "import matplotlib.pyplot as plt"
   ]
  },
  {
   "cell_type": "code",
   "execution_count": null,
   "metadata": {
    "collapsed": false
   },
   "outputs": [],
   "source": [
    "# Vamos ao nosso primeiro exemplo básico\n",
    "plt.plot([1,2,3,4])             # Primeiro informamos o que será plotado\n",
    "plt.ylabel('alguns números')    # Podemos configurar algumas coisas opcionais como nome do eixo\n",
    "plt.show()                      # Finalmente o comando para mostrar o plot\n",
    "\n",
    "# Nota: quando vê só informa um array que deve ser plotado \n",
    "# o pyplot vai assumir alguns valores para o eixo X e interpretar\n",
    "# os valores dados como eixo Y"
   ]
  },
  {
   "cell_type": "code",
   "execution_count": null,
   "metadata": {
    "collapsed": false
   },
   "outputs": [],
   "source": [
    "# Vamos aprimorar nosso gráfico dando as devidas coordenadas que \n",
    "# queremos plotar e com um novo argumento \n",
    "# 'ro' que indica a cor usada (red) e o estilo do plot (com \"pontos\")\n",
    "plt.plot([1,2,3,4], [1,4,9,16], 'ro')\n",
    "\n",
    "plt.axis([0, 6, 0, 20])                     # Aqui estamos definindo [min_x, max_x, min_y, max_y]\n",
    "# Outra possibilidade\n",
    "# plt.xlim([1, 2, 3, 4].min(), [1, 2, 3, 4].max())\n",
    "# plt.ylim([1, 4, 9, 16].min(), [1, 4, 9, 16].max())\n",
    "plt.show()"
   ]
  },
  {
   "cell_type": "code",
   "execution_count": null,
   "metadata": {
    "collapsed": false
   },
   "outputs": [],
   "source": [
    "import numpy as np\n",
    "# Agoras vamos trabalhar com múltiplas imagens \n",
    "\n",
    "def f(t):\n",
    "    return np.exp(-t) * np.cos(2*np.pi*t)\n",
    "\n",
    "# Geramos dois vetores\n",
    "t1 = np.arange(0.0, 5.0, 0.1)\n",
    "t2 = np.arange(0.0, 5.0, 0.02)\n",
    "\n",
    "plt.figure(1)\n",
    "plt.subplot(211)                              # Esse comando especifica num da linha, num da coluna, num da figura\n",
    "                                              # Usar vírgulas ou não é opcional no caso de linhas * colunas < 10\n",
    "plt.plot(t1, f(t1), 'bo', t2, f(t2), 'k')\n",
    "\n",
    "plt.subplot(212)\n",
    "plt.plot(t2, np.cos(2*np.pi*t2), 'r--')\n",
    "plt.show()"
   ]
  },
  {
   "cell_type": "code",
   "execution_count": null,
   "metadata": {
    "collapsed": false
   },
   "outputs": [],
   "source": [
    "# Scatter plot é um estilo de plotagem onde \n",
    "# as coordenadas são visualizadas apenas como pontos\n",
    "# Documentação: https://matplotlib.org/api/_as_gen/matplotlib.axes.Axes.scatter.html\n",
    "data = [i for i in range(8) for j in range(np.random.randint(10))]\n",
    "print(\"data = \", data)\n",
    "x, y = np.array(data), np.array(data)\n",
    "plt.scatter(x, y, alpha = .1, s = 400)      # alpha regura transparência, s regula tamanho de cada \"ponto\"\n",
    "plt.show()"
   ]
  },
  {
   "cell_type": "code",
   "execution_count": null,
   "metadata": {
    "collapsed": false
   },
   "outputs": [],
   "source": [
    "N = 50\n",
    "x = np.random.rand(N)\n",
    "y = np.random.rand(N)\n",
    "colors = np.random.rand(N)\n",
    "area = np.pi * (15 * np.random.rand(N))**2       # Geramos o tamanho de cada ponto\n",
    "\n",
    "plt.scatter(x, y, s = area, c = colors, alpha = 0.5)\n",
    "plt.show()"
   ]
  },
  {
   "cell_type": "code",
   "execution_count": null,
   "metadata": {
    "collapsed": false
   },
   "outputs": [],
   "source": [
    "# O parâmetro marker determina o formato do \"ponto\"\n",
    "# Tabela com vários formatos disponíveis: https://matplotlib.org/api/markers_api.html\n",
    "plt.scatter(x, y, s = area, c = colors, alpha = 0.5, marker = '^')\n",
    "plt.show()"
   ]
  },
  {
   "cell_type": "code",
   "execution_count": null,
   "metadata": {
    "collapsed": false
   },
   "outputs": [],
   "source": [
    "# Lidando com cores\n",
    "import matplotlib as mpl\n",
    "\n",
    "fig = plt.figure(figsize=(8, 3))       # figsize é largura e algura em polegadas\n",
    "ax = fig.add_axes([0.05, 0.80, 0.9, 0.15])\n",
    "\n",
    "# Colormap são paletas de cores prédefinidas \n",
    "# https://matplotlib.org/users/colormaps.html\n",
    "# Elas podem ser úteis para plotar informações com diferentes cores, \n",
    "# mas sem definir a mão cada cor\n",
    "cmap = mpl.cm.inferno\n",
    "norm = mpl.colors.Normalize(vmin = 5, vmax = 10)\n",
    "\n",
    "# ColorbarBase coloca uma barra de cores em um dado eixo\n",
    "cb = mpl.colorbar.ColorbarBase(ax, cmap = cmap,\n",
    "                                norm = norm,\n",
    "                                orientation = 'horizontal')\n",
    "plt.show()"
   ]
  },
  {
   "cell_type": "code",
   "execution_count": null,
   "metadata": {
    "collapsed": false,
    "scrolled": false
   },
   "outputs": [],
   "source": [
    "xx, yy = np.meshgrid(np.arange(1, 2, 0.2),\n",
    "                     np.arange(4, 5, 0.2))\n",
    "print(xx)\n",
    "print(yy)\n",
    "\n",
    "Z = np.array([np.random.randint(4) for j in range(len(xx)*len(yy))]).reshape(xx.shape)\n",
    "print(Z)\n",
    "\n",
    "plt.figure()\n",
    "plt.pcolormesh(xx, yy, Z, cmap = mpl.cm.inferno) # Usado para pintar um grid \n",
    "plt.show()"
   ]
  },
  {
   "cell_type": "code",
   "execution_count": null,
   "metadata": {
    "collapsed": false
   },
   "outputs": [],
   "source": [
    "# Iremos ver mais um tipo de gráfico, dessa vez Histograma\n",
    "import matplotlib.mlab as mlab\n",
    "\n",
    "mu, sigma = 100, 15\n",
    "x = mu + sigma*np.random.randn(10000)\n",
    "\n",
    "n, bins, patches = plt.hist(x, 20, normed = 1, facecolor = 'green', alpha = 0.75)\n",
    "\n",
    "plt.axis([40, 160, 0, 0.03])\n",
    "plt.grid(True)\n",
    "\n",
    "plt.show()"
   ]
  },
  {
   "cell_type": "markdown",
   "metadata": {},
   "source": [
    "Nós já estamos usando o Matplotlib com o Numpy, agora vamos também combinar ele com o Pandas e aumentar nosso potencial de visualização de dados."
   ]
  },
  {
   "cell_type": "code",
   "execution_count": null,
   "metadata": {
    "collapsed": false
   },
   "outputs": [],
   "source": [
    "import pandas as pd\n",
    "alunos_bti = pd.read_csv(\"alunos-bti.csv\", sep = \",\")\n",
    "# Voltando para a base de dados dos alunos do BTI\n",
    "alunos_bti.head()"
   ]
  },
  {
   "cell_type": "code",
   "execution_count": null,
   "metadata": {
    "collapsed": false
   },
   "outputs": [],
   "source": [
    "# Porém vamos usar apenas uma parte específica dos dados\n",
    "axis = ['CEP', 'ano_disciplina', 'periodo_disciplina']\n",
    "alunos_bti = alunos_bti.drop(axis, axis = 1)\n",
    "alunos_bti.head()"
   ]
  },
  {
   "cell_type": "code",
   "execution_count": null,
   "metadata": {
    "collapsed": false
   },
   "outputs": [],
   "source": [
    "# Calculando a média das notas das disciplinas que os alunos foram aprovados\n",
    "alunos_mean = alunos_bti[alunos_bti['status_disciplina'] == 'Aprovado'].groupby('a_ID')['nota'].mean()\n",
    "print(len(alunos_mean))\n",
    "alunos_mean.head()"
   ]
  },
  {
   "cell_type": "code",
   "execution_count": null,
   "metadata": {
    "collapsed": false
   },
   "outputs": [],
   "source": [
    "# Separando as notas do enem dos alunos\n",
    "alunos_enem = alunos_bti[alunos_bti['status_disciplina'] == 'Aprovado'].groupby('a_ID')['enem_nota'].mean()\n",
    "print(len(alunos_enem))\n",
    "alunos_enem.head()"
   ]
  },
  {
   "cell_type": "code",
   "execution_count": null,
   "metadata": {
    "collapsed": false
   },
   "outputs": [],
   "source": [
    "plt.scatter(alunos_mean, alunos_enem, marker = '.')\n",
    "plt.ylabel(\"enem\")\n",
    "plt.xlabel(\"mean\")\n",
    "plt.show()"
   ]
  },
  {
   "cell_type": "markdown",
   "metadata": {},
   "source": [
    "### Exercício 6\n",
    "Calcule o total de aprovações e o total de reprovações no semestre 2016.1, separando os alunos por ano de ingresso. Faça o gráfico.\n",
    "\n",
    "Dica 1: use a função count() para contar o número de linhas em uma dada coluna.\n",
    "\n",
    "Dica 2: plt.xticks() e plt.yticks() podem ser úteis para determinar exatamente quais valores você quer que estejam nos eixos."
   ]
  },
  {
   "cell_type": "code",
   "execution_count": null,
   "metadata": {
    "collapsed": false
   },
   "outputs": [],
   "source": [
    "# Solução"
   ]
  }
 ],
 "metadata": {
  "kernelspec": {
   "display_name": "Python 3",
   "language": "python",
   "name": "python3"
  },
  "language_info": {
   "codemirror_mode": {
    "name": "ipython",
    "version": 3
   },
   "file_extension": ".py",
   "mimetype": "text/x-python",
   "name": "python",
   "nbconvert_exporter": "python",
   "pygments_lexer": "ipython3",
   "version": "3.6.0"
  }
 },
 "nbformat": 4,
 "nbformat_minor": 2
}
